{
 "cells": [
  {
   "cell_type": "code",
   "execution_count": 1,
   "id": "4f00de9d",
   "metadata": {},
   "outputs": [],
   "source": [
    "import numpy as np\n",
    "import pandas as pd\n",
    "import os\n",
    "import matplotlib.pyplot as plt"
   ]
  },
  {
   "cell_type": "markdown",
   "id": "c8312604",
   "metadata": {},
   "source": [
    "Loading the data:"
   ]
  },
  {
   "cell_type": "code",
   "execution_count": 2,
   "id": "a8ae8983",
   "metadata": {},
   "outputs": [
    {
     "data": {
      "application/vnd.microsoft.datawrangler.viewer.v0+json": {
       "columns": [
        {
         "name": "index",
         "rawType": "int64",
         "type": "integer"
        },
        {
         "name": "t_lb",
         "rawType": "float64",
         "type": "float"
        },
        {
         "name": "V_m/V_v",
         "rawType": "float64",
         "type": "float"
        },
        {
         "name": "MAR",
         "rawType": "float64",
         "type": "float"
        }
       ],
       "ref": "66412eb6-a1a9-42e5-84ed-eb604df78216",
       "rows": [
        [
         "0",
         "0.0015",
         "0.12801",
         "0.26892"
        ],
        [
         "1",
         "0.1269",
         "0.12806",
         "0.18649"
        ],
        [
         "2",
         "0.2519",
         "0.12809",
         "0.19827"
        ],
        [
         "3",
         "0.3763",
         "0.12812",
         "0.20586"
        ],
        [
         "4",
         "0.5002",
         "0.12814",
         "0.2133"
        ]
       ],
       "shape": {
        "columns": 3,
        "rows": 5
       }
      },
      "text/html": [
       "<div>\n",
       "<style scoped>\n",
       "    .dataframe tbody tr th:only-of-type {\n",
       "        vertical-align: middle;\n",
       "    }\n",
       "\n",
       "    .dataframe tbody tr th {\n",
       "        vertical-align: top;\n",
       "    }\n",
       "\n",
       "    .dataframe thead th {\n",
       "        text-align: right;\n",
       "    }\n",
       "</style>\n",
       "<table border=\"1\" class=\"dataframe\">\n",
       "  <thead>\n",
       "    <tr style=\"text-align: right;\">\n",
       "      <th></th>\n",
       "      <th>t_lb</th>\n",
       "      <th>V_m/V_v</th>\n",
       "      <th>MAR</th>\n",
       "    </tr>\n",
       "  </thead>\n",
       "  <tbody>\n",
       "    <tr>\n",
       "      <th>0</th>\n",
       "      <td>0.0015</td>\n",
       "      <td>0.12801</td>\n",
       "      <td>0.26892</td>\n",
       "    </tr>\n",
       "    <tr>\n",
       "      <th>1</th>\n",
       "      <td>0.1269</td>\n",
       "      <td>0.12806</td>\n",
       "      <td>0.18649</td>\n",
       "    </tr>\n",
       "    <tr>\n",
       "      <th>2</th>\n",
       "      <td>0.2519</td>\n",
       "      <td>0.12809</td>\n",
       "      <td>0.19827</td>\n",
       "    </tr>\n",
       "    <tr>\n",
       "      <th>3</th>\n",
       "      <td>0.3763</td>\n",
       "      <td>0.12812</td>\n",
       "      <td>0.20586</td>\n",
       "    </tr>\n",
       "    <tr>\n",
       "      <th>4</th>\n",
       "      <td>0.5002</td>\n",
       "      <td>0.12814</td>\n",
       "      <td>0.21330</td>\n",
       "    </tr>\n",
       "  </tbody>\n",
       "</table>\n",
       "</div>"
      ],
      "text/plain": [
       "     t_lb  V_m/V_v      MAR\n",
       "0  0.0015  0.12801  0.26892\n",
       "1  0.1269  0.12806  0.18649\n",
       "2  0.2519  0.12809  0.19827\n",
       "3  0.3763  0.12812  0.20586\n",
       "4  0.5002  0.12814  0.21330"
      ]
     },
     "execution_count": 2,
     "metadata": {},
     "output_type": "execute_result"
    }
   ],
   "source": [
    "def load_dat(filename):\n",
    "    data_path = os.path.join(\"data\", filename)\n",
    "    return pd.read_csv(data_path, \n",
    "                       delimiter=r'\\s+',\n",
    "                       header=None,\n",
    "                       usecols=[2,5,7],\n",
    "                       names=['t_lb','V_m/V_v','MAR'])\n",
    "\n",
    "masses = [10.0,10.5,11.0,11.5,12.0,12.5,13.5]\n",
    "data = {}\n",
    "for i, fname in enumerate(os.listdir('data')):\n",
    "    path = os.path.join('data', fname)\n",
    "    data[masses[i]] = load_dat(fname)\n",
    "\n",
    "data[10].head()"
   ]
  },
  {
   "cell_type": "markdown",
   "id": "04920466",
   "metadata": {},
   "source": [
    "Converting the time to cosmic"
   ]
  },
  {
   "cell_type": "code",
   "execution_count": 3,
   "id": "74e7b4d8",
   "metadata": {},
   "outputs": [
    {
     "data": {
      "application/vnd.microsoft.datawrangler.viewer.v0+json": {
       "columns": [
        {
         "name": "index",
         "rawType": "int64",
         "type": "integer"
        },
        {
         "name": "t_lb",
         "rawType": "float64",
         "type": "float"
        },
        {
         "name": "V_m/V_v",
         "rawType": "float64",
         "type": "float"
        },
        {
         "name": "MAR",
         "rawType": "float64",
         "type": "float"
        },
        {
         "name": "t_c",
         "rawType": "float64",
         "type": "float"
        }
       ],
       "ref": "eaa5dee2-d6ef-406a-b959-a67084e8ebd2",
       "rows": [
        [
         "0",
         "0.0015",
         "0.12801",
         "0.26892",
         "13.7985"
        ],
        [
         "1",
         "0.1269",
         "0.12806",
         "0.18649",
         "13.673100000000002"
        ],
        [
         "2",
         "0.2519",
         "0.12809",
         "0.19827",
         "13.548100000000002"
        ],
        [
         "3",
         "0.3763",
         "0.12812",
         "0.20586",
         "13.4237"
        ],
        [
         "4",
         "0.5002",
         "0.12814",
         "0.2133",
         "13.299800000000001"
        ]
       ],
       "shape": {
        "columns": 4,
        "rows": 5
       }
      },
      "text/html": [
       "<div>\n",
       "<style scoped>\n",
       "    .dataframe tbody tr th:only-of-type {\n",
       "        vertical-align: middle;\n",
       "    }\n",
       "\n",
       "    .dataframe tbody tr th {\n",
       "        vertical-align: top;\n",
       "    }\n",
       "\n",
       "    .dataframe thead th {\n",
       "        text-align: right;\n",
       "    }\n",
       "</style>\n",
       "<table border=\"1\" class=\"dataframe\">\n",
       "  <thead>\n",
       "    <tr style=\"text-align: right;\">\n",
       "      <th></th>\n",
       "      <th>t_lb</th>\n",
       "      <th>V_m/V_v</th>\n",
       "      <th>MAR</th>\n",
       "      <th>t_c</th>\n",
       "    </tr>\n",
       "  </thead>\n",
       "  <tbody>\n",
       "    <tr>\n",
       "      <th>0</th>\n",
       "      <td>0.0015</td>\n",
       "      <td>0.12801</td>\n",
       "      <td>0.26892</td>\n",
       "      <td>13.7985</td>\n",
       "    </tr>\n",
       "    <tr>\n",
       "      <th>1</th>\n",
       "      <td>0.1269</td>\n",
       "      <td>0.12806</td>\n",
       "      <td>0.18649</td>\n",
       "      <td>13.6731</td>\n",
       "    </tr>\n",
       "    <tr>\n",
       "      <th>2</th>\n",
       "      <td>0.2519</td>\n",
       "      <td>0.12809</td>\n",
       "      <td>0.19827</td>\n",
       "      <td>13.5481</td>\n",
       "    </tr>\n",
       "    <tr>\n",
       "      <th>3</th>\n",
       "      <td>0.3763</td>\n",
       "      <td>0.12812</td>\n",
       "      <td>0.20586</td>\n",
       "      <td>13.4237</td>\n",
       "    </tr>\n",
       "    <tr>\n",
       "      <th>4</th>\n",
       "      <td>0.5002</td>\n",
       "      <td>0.12814</td>\n",
       "      <td>0.21330</td>\n",
       "      <td>13.2998</td>\n",
       "    </tr>\n",
       "  </tbody>\n",
       "</table>\n",
       "</div>"
      ],
      "text/plain": [
       "     t_lb  V_m/V_v      MAR      t_c\n",
       "0  0.0015  0.12801  0.26892  13.7985\n",
       "1  0.1269  0.12806  0.18649  13.6731\n",
       "2  0.2519  0.12809  0.19827  13.5481\n",
       "3  0.3763  0.12812  0.20586  13.4237\n",
       "4  0.5002  0.12814  0.21330  13.2998"
      ]
     },
     "execution_count": 3,
     "metadata": {},
     "output_type": "execute_result"
    }
   ],
   "source": [
    "for mass, df in data.items():\n",
    "    df['t_c'] = 13.8 - df['t_lb'] \n",
    "\n",
    "data[10].head()"
   ]
  },
  {
   "cell_type": "markdown",
   "id": "2fa039a2",
   "metadata": {},
   "source": [
    "Now the interpolation plot:"
   ]
  },
  {
   "cell_type": "code",
   "execution_count": 4,
   "id": "207bc50c",
   "metadata": {},
   "outputs": [
    {
     "data": {
      "image/png": "[encoded data removed]",
      "text/plain": [
       "<Figure size 640x480 with 2 Axes>"
      ]
     },
     "metadata": {},
     "output_type": "display_data"
    }
   ],
   "source": [
    "t_space = np.linspace(0.1,13.8,100)\n",
    "\n",
    "fig, ax = plt.subplots(2,sharex=True)\n",
    "ax[1].set_xlabel('Cosmic Time (Gyr)')\n",
    "ax[0].set_ylabel(r'$\\log(v_{\\text{max}}/v_{\\text{vir},0})$')\n",
    "ax[1].set_ylabel(r'MAR $[\\text{M}_\\odot h^{-1} \\text{yr}^{-1}]$')\n",
    "for mass, df in data.items():\n",
    "    y_v = np.interp(t_space,df['t_c'][::-1],df['V_m/V_v'][::-1])\n",
    "    y_MAR = np.interp(t_space,df['t_c'][::-1],df['MAR'][::-1])\n",
    "    ax[0].plot(t_space,y_v)\n",
    "    ax[1].plot(t_space,y_MAR)\n",
    "\n",
    "ax[1].set_yscale('log')"
   ]
  },
  {
   "cell_type": "markdown",
   "id": "7a87e41a",
   "metadata": {},
   "source": [
    "Now for the calculations in (iii) - (v): we will use eulers methods to solve the different time evolutions. Our rough sketch:\n",
    "\n",
    "```python\n",
    "# Initialize\n",
    "M_dm, M_g, M_star, SFR, dM_g = zeroes\n",
    "dM_dm = interp(data) * h # ?\n",
    "\n",
    "# Start values\n",
    "X,Y,Z fractions\n",
    "M_dm[0] = get_initial_mass(data)\n",
    "M_g[0] = Y * M_vir\n",
    "M_star[0] = Z * M_vir\n",
    "SFR[0] = A * M_g\n",
    "dM_g[0] = gamma(0) * f_b * dM_dm[0] - (1-R) * SFR # Assuming here that gas outflow = 0\n",
    "\n",
    "for i,t enumerate t_space:\n",
    "    M_dm[i+1] = M_dm[0] + dM_dm[0]\n",
    "    M_star[i+1] = M_star[i] + (1-R) * SFR[i] * dt\n",
    "    M_g[i+1] = M_g[i] + dM_gas * dt\n",
    "\n",
    "    SFR[i+1] = A * M_g[i+1]\n",
    "    dM_g[i+1] = gamma(M_dm[i+1]) * f_b * dM_dm[i+1]\n",
    "\n",
    "```\n",
    "However, we need to calculate the initial values $t_c \\approx 0$. We will integrate the total dark dark matter gained/lost by looking at the mass acretion and the correspoding time at the data."
   ]
  },
  {
   "cell_type": "code",
   "execution_count": 39,
   "id": "8edfff70",
   "metadata": {},
   "outputs": [
    {
     "name": "stdout",
     "output_type": "stream",
     "text": [
      "M0_dm  8200000000.000001\n",
      "-9913344981.100004\n",
      "M_dm  -1713344981.1000032\n"
     ]
    }
   ],
   "source": [
    "def get_initial_mass(M_vir, df, f_b=0.18, stellar_frac=0.09):\n",
    "    '''\n",
    "    Gets the initials masses at t_c = 0 for dm, gas and stars\n",
    "\n",
    "    INPUT\n",
    "    -----\n",
    "    M_vir : (float)\n",
    "    df : (pd.DataFrame)\n",
    "    dm_ratio, stellar_ratio : (float)\n",
    "\n",
    "    OUTPUT\n",
    "    -----\n",
    "    M_dm, M_g, M_star : (float)\n",
    "\n",
    "    '''\n",
    "\n",
    "    dm_frac = 1.0 - f_b\n",
    "    t_c = df['t_c']\n",
    "    dM_dm = df['MAR']\n",
    "    M0_dm = dm_frac * 10**M_vir\n",
    "    print('M0_dm ', M0_dm)\n",
    "    sum = 0\n",
    "\n",
    "    for i in range(len(t_c) - 1):\n",
    "        sum += (t_c[i+1] - t_c[i]) * 1e9 * dM_dm[i] # delta t [Gyr] * 1e9 * delta M [sollar masses/yr]\n",
    "\n",
    "    print(sum)\n",
    "    M_dm = M0_dm + sum # Dark matter mass t_c=0, sum is negative because we are integrating backwards in time!\n",
    "    print('M_dm ', M_dm)\n",
    "    gas_ratio = 1 - dm_frac - stellar_frac \n",
    "    M_star = M_dm * stellar_frac/dm_frac    # stellar mass\n",
    "    M_g = M_dm * gas_ratio/dm_frac          # gas mass t=0\n",
    "\n",
    "    return M_dm, M_g, M_star\n",
    "\n",
    "dm, gas, stellar = get_initial_mass(10.0,data[10])\n",
    "# print(10**10 - dm)\n",
    "# print(gas, stellar)"
   ]
  },
  {
   "cell_type": "code",
   "execution_count": 28,
   "id": "122991c0",
   "metadata": {},
   "outputs": [],
   "source": [
    "def gamma(M_dm):\n",
    "    M_crit = 6e11 # Critical Mass [Solar Masses]\n",
    "    if M_dm > M_crit:\n",
    "        return 0.3\n",
    "    else:\n",
    "        return 1\n",
    "\n",
    "def mass_evolution(M_vir, df, f_b=0.18, stellar_frac=0.09, n_steps=100):\n",
    "    ''' \n",
    "    Models the backwards evolution of the different masses\n",
    "\n",
    "    INPUT\n",
    "    -----\n",
    "    M_vir : (float)\n",
    "        Log_10 of the virial mass of the galaxy\n",
    "    df : (pd.DataFrame)\n",
    "        Dataframe with columns ['t_c','MAR']\n",
    "    f_b : (float)\n",
    "        Fraction of baryonic matter\n",
    "    stellar_frac : (float)\n",
    "        Fraction of stelar mass from total matter\n",
    "    n_steps : int\n",
    "        Number of time steps for the evolution\n",
    "\n",
    "    OUTPUT\n",
    "    -----\n",
    "    t_reverse, M_dm, M_g, M_star, SFR : np.ndarray\n",
    "        the results\n",
    "\n",
    "    '''\n",
    "\n",
    "    R = 0.4\n",
    "    h = 0.7 # dim.-less Hubble\n",
    "    A = 2e-10\n",
    "\n",
    "    # Initialize\n",
    "    t_cosmic = np.linspace(0.1,13.8,n_steps) # equidistant cosmic time in Gyr\n",
    "    dt = 13.8 / n_steps * 1e9 # in yr\n",
    "\n",
    "    dM_dm = np.interp(t_cosmic,df['t_c'][::-1],df['MAR'][::-1]) # Not sure if this h is correct ???\n",
    "\n",
    "    dM_dm = dM_dm * h # Not sure if this h is correct ???\n",
    "\n",
    "    M_dm, M_g, M_star, SFR, dM_g = np.zeros((5,n_steps))\n",
    "\n",
    "    # Initial Values at t=t_0\n",
    "    \n",
    "    M_dm[0], M_g[0], M_star[0] = get_initial_mass(M_vir, df, f_b, stellar_frac)\n",
    "    SFR[0] = A * M_g[0]\n",
    "    dM_g[0] = gamma(0) * f_b * dM_dm[0] - (1-R) * SFR[0] # Assuming here that gas outflow = 0\n",
    "\n",
    "    for i in range(n_steps-1):\n",
    "\n",
    "        M_dm[i+1] = M_dm[0] + dM_dm[0] * dt\n",
    "        M_star[i+1] = M_star[i] + (1-R) * SFR[i] * dt \n",
    "        M_g[i+1] = M_g[i] - dM_g[i] * dt\n",
    "\n",
    "        SFR[i+1] = A * M_g[i+1]\n",
    "        dM_g[i+1] = gamma(M_dm[i+1]) * f_b * dM_dm[i+1] - (1 - R)*SFR[i+1]\n",
    "    \n",
    "    # return t_cosmic, M_dm, M_g, M_star, SFR\n",
    "    return t_cosmic, M_dm, M_g, M_star, SFR, dM_dm"
   ]
  },
  {
   "cell_type": "code",
   "execution_count": 30,
   "id": "41370f31",
   "metadata": {},
   "outputs": [
    {
     "data": {
      "image/png": "[encoded data removed]",
      "text/plain": [
       "<Figure size 640x480 with 1 Axes>"
      ]
     },
     "metadata": {},
     "output_type": "display_data"
    }
   ],
   "source": [
    "# A first test.\n",
    "t_reverse, M_dm, M_g, M_star, SFR, test = mass_evolution(10,data[10.0])\n",
    "\n",
    "plt.plot(t_reverse, M_dm)\n",
    "plt.show()\n"
   ]
  },
  {
   "cell_type": "code",
   "execution_count": 15,
   "id": "5f36d49a",
   "metadata": {},
   "outputs": [
    {
     "name": "stdout",
     "output_type": "stream",
     "text": [
      "10000000000\n"
     ]
    }
   ],
   "source": [
    "print(10**10)"
   ]
  }
 ],
 "metadata": {
  "kernelspec": {
   "display_name": "physics",
   "language": "python",
   "name": "python3"
  },
  "language_info": {
   "codemirror_mode": {
    "name": "ipython",
    "version": 3
   },
   "file_extension": ".py",
   "mimetype": "text/x-python",
   "name": "python",
   "nbconvert_exporter": "python",
   "pygments_lexer": "ipython3",
   "version": "3.13.7"
  }
 },
 "nbformat": 4,
 "nbformat_minor": 5
}
